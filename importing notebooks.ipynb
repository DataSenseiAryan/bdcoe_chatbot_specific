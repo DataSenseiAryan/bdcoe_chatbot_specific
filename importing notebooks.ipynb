{
 "cells": [
  {
   "cell_type": "code",
   "execution_count": 3,
   "metadata": {
    "collapsed": false
   },
   "outputs": [
    {
     "name": "stdout",
     "output_type": "stream",
     "text": [
      "curses is not supported on this machine (please install/reinstall curses for an optimal experience)\n",
      "[0 0 0 0 0 0 0 0 0 0 0 0 0 0 0 0 0 0 0 0 0 0 0 1 0 0 0 0 0 0 0 1 0 0 0 0 0\n",
      " 0 0 0 1 0 0 0 0 0 1 0]\n",
      "['goodbye', 'greeting', 'hours', 'mopeds', 'opentoday', 'payments', 'rental', 'thanks', 'today']\n",
      "INFO:tensorflow:Restoring parameters from E:\\files\\jupyter_ipynb\\model.tflearn\n",
      "We're open every day from 9am-9pm\n",
      "We accept most major credit cards\n",
      "We have Piaggio, Vespa and Yamaha mopeds\n",
      "Are you looking to rent today or later this week?\n",
      "Same-day rentals please call 1-800-MYMOPED\n",
      "context: \n",
      "tag: greeting\n",
      "Good to see you again\n",
      "We have Piaggio, Vespa and Yamaha mopeds\n"
     ]
    }
   ],
   "source": [
    "%run 'Tensorflow-chat-bot-response.ipynb'"
   ]
  },
  {
   "cell_type": "code",
   "execution_count": 7,
   "metadata": {
    "collapsed": false
   },
   "outputs": [
    {
     "name": "stdout",
     "output_type": "stream",
     "text": [
      "Have a nice day\n"
     ]
    }
   ],
   "source": [
    "response(\"love u\")"
   ]
  }
 ],
 "metadata": {
  "kernelspec": {
   "display_name": "Python 3",
   "language": "python",
   "name": "python3"
  },
  "language_info": {
   "codemirror_mode": {
    "name": "ipython",
    "version": 3
   },
   "file_extension": ".py",
   "mimetype": "text/x-python",
   "name": "python",
   "nbconvert_exporter": "python",
   "pygments_lexer": "ipython3",
   "version": "3.5.3"
  }
 },
 "nbformat": 4,
 "nbformat_minor": 0
}
